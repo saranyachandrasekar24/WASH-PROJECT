{
 "cells": [
  {
   "cell_type": "code",
   "execution_count": 1,
   "id": "50636242",
   "metadata": {},
   "outputs": [],
   "source": [
    "import pandas as pd\n",
    "import numpy as np\n",
    "import matplotlib.pyplot as plt\n",
    "import seaborn as sns\n",
    "import warnings\n",
    "warnings.filterwarnings(\"ignore\")"
   ]
  },
  {
   "cell_type": "code",
   "execution_count": 2,
   "id": "7a80fceb",
   "metadata": {},
   "outputs": [],
   "source": [
    "df=pd.read_csv(\"data (2).csv\")"
   ]
  },
  {
   "cell_type": "code",
   "execution_count": 3,
   "id": "f69f53f2",
   "metadata": {
    "scrolled": true
   },
   "outputs": [
    {
     "data": {
      "text/html": [
       "<div>\n",
       "<style scoped>\n",
       "    .dataframe tbody tr th:only-of-type {\n",
       "        vertical-align: middle;\n",
       "    }\n",
       "\n",
       "    .dataframe tbody tr th {\n",
       "        vertical-align: top;\n",
       "    }\n",
       "\n",
       "    .dataframe thead th {\n",
       "        text-align: right;\n",
       "    }\n",
       "</style>\n",
       "<table border=\"1\" class=\"dataframe\">\n",
       "  <thead>\n",
       "    <tr style=\"text-align: right;\">\n",
       "      <th></th>\n",
       "      <th>ISO3</th>\n",
       "      <th>Country</th>\n",
       "      <th>Residence Type</th>\n",
       "      <th>Service Type</th>\n",
       "      <th>Year</th>\n",
       "      <th>Coverage</th>\n",
       "      <th>Population</th>\n",
       "      <th>Service level</th>\n",
       "    </tr>\n",
       "  </thead>\n",
       "  <tbody>\n",
       "    <tr>\n",
       "      <th>0</th>\n",
       "      <td>IND</td>\n",
       "      <td>India</td>\n",
       "      <td>urban</td>\n",
       "      <td>Drinking water</td>\n",
       "      <td>2001</td>\n",
       "      <td>92.62825</td>\n",
       "      <td>2.779945e+08</td>\n",
       "      <td>At least basic</td>\n",
       "    </tr>\n",
       "    <tr>\n",
       "      <th>1</th>\n",
       "      <td>IND</td>\n",
       "      <td>India</td>\n",
       "      <td>rural</td>\n",
       "      <td>Sanitation</td>\n",
       "      <td>2001</td>\n",
       "      <td>2.89715</td>\n",
       "      <td>2.244948e+07</td>\n",
       "      <td>Basic service</td>\n",
       "    </tr>\n",
       "    <tr>\n",
       "      <th>2</th>\n",
       "      <td>IND</td>\n",
       "      <td>India</td>\n",
       "      <td>urban</td>\n",
       "      <td>Sanitation</td>\n",
       "      <td>2001</td>\n",
       "      <td>27.42971</td>\n",
       "      <td>8.232163e+07</td>\n",
       "      <td>Basic service</td>\n",
       "    </tr>\n",
       "    <tr>\n",
       "      <th>3</th>\n",
       "      <td>IND</td>\n",
       "      <td>India</td>\n",
       "      <td>rural</td>\n",
       "      <td>Drinking water</td>\n",
       "      <td>2001</td>\n",
       "      <td>45.99984</td>\n",
       "      <td>3.564443e+08</td>\n",
       "      <td>Basic service</td>\n",
       "    </tr>\n",
       "    <tr>\n",
       "      <th>4</th>\n",
       "      <td>IND</td>\n",
       "      <td>India</td>\n",
       "      <td>rural</td>\n",
       "      <td>Sanitation</td>\n",
       "      <td>2001</td>\n",
       "      <td>1.18974</td>\n",
       "      <td>9.219053e+06</td>\n",
       "      <td>Limited service</td>\n",
       "    </tr>\n",
       "    <tr>\n",
       "      <th>...</th>\n",
       "      <td>...</td>\n",
       "      <td>...</td>\n",
       "      <td>...</td>\n",
       "      <td>...</td>\n",
       "      <td>...</td>\n",
       "      <td>...</td>\n",
       "      <td>...</td>\n",
       "      <td>...</td>\n",
       "    </tr>\n",
       "    <tr>\n",
       "      <th>433</th>\n",
       "      <td>IND</td>\n",
       "      <td>India</td>\n",
       "      <td>urban</td>\n",
       "      <td>Drinking water</td>\n",
       "      <td>2020</td>\n",
       "      <td>0.23730</td>\n",
       "      <td>1.143740e+06</td>\n",
       "      <td>Surface water</td>\n",
       "    </tr>\n",
       "    <tr>\n",
       "      <th>434</th>\n",
       "      <td>IND</td>\n",
       "      <td>India</td>\n",
       "      <td>rural</td>\n",
       "      <td>Sanitation</td>\n",
       "      <td>2020</td>\n",
       "      <td>2.39484</td>\n",
       "      <td>2.150621e+07</td>\n",
       "      <td>Unimproved</td>\n",
       "    </tr>\n",
       "    <tr>\n",
       "      <th>435</th>\n",
       "      <td>IND</td>\n",
       "      <td>India</td>\n",
       "      <td>urban</td>\n",
       "      <td>Sanitation</td>\n",
       "      <td>2020</td>\n",
       "      <td>0.42253</td>\n",
       "      <td>2.036524e+06</td>\n",
       "      <td>Unimproved</td>\n",
       "    </tr>\n",
       "    <tr>\n",
       "      <th>436</th>\n",
       "      <td>IND</td>\n",
       "      <td>India</td>\n",
       "      <td>rural</td>\n",
       "      <td>Drinking water</td>\n",
       "      <td>2020</td>\n",
       "      <td>4.57638</td>\n",
       "      <td>4.109695e+07</td>\n",
       "      <td>Unimproved</td>\n",
       "    </tr>\n",
       "    <tr>\n",
       "      <th>437</th>\n",
       "      <td>IND</td>\n",
       "      <td>India</td>\n",
       "      <td>urban</td>\n",
       "      <td>Drinking water</td>\n",
       "      <td>2020</td>\n",
       "      <td>2.82061</td>\n",
       "      <td>1.359477e+07</td>\n",
       "      <td>Unimproved</td>\n",
       "    </tr>\n",
       "  </tbody>\n",
       "</table>\n",
       "<p>438 rows × 8 columns</p>\n",
       "</div>"
      ],
      "text/plain": [
       "    ISO3 Country Residence Type    Service Type  Year  Coverage    Population  \\\n",
       "0    IND   India          urban  Drinking water  2001  92.62825  2.779945e+08   \n",
       "1    IND   India          rural      Sanitation  2001   2.89715  2.244948e+07   \n",
       "2    IND   India          urban      Sanitation  2001  27.42971  8.232163e+07   \n",
       "3    IND   India          rural  Drinking water  2001  45.99984  3.564443e+08   \n",
       "4    IND   India          rural      Sanitation  2001   1.18974  9.219053e+06   \n",
       "..   ...     ...            ...             ...   ...       ...           ...   \n",
       "433  IND   India          urban  Drinking water  2020   0.23730  1.143740e+06   \n",
       "434  IND   India          rural      Sanitation  2020   2.39484  2.150621e+07   \n",
       "435  IND   India          urban      Sanitation  2020   0.42253  2.036524e+06   \n",
       "436  IND   India          rural  Drinking water  2020   4.57638  4.109695e+07   \n",
       "437  IND   India          urban  Drinking water  2020   2.82061  1.359477e+07   \n",
       "\n",
       "       Service level  \n",
       "0     At least basic  \n",
       "1      Basic service  \n",
       "2      Basic service  \n",
       "3      Basic service  \n",
       "4    Limited service  \n",
       "..               ...  \n",
       "433    Surface water  \n",
       "434       Unimproved  \n",
       "435       Unimproved  \n",
       "436       Unimproved  \n",
       "437       Unimproved  \n",
       "\n",
       "[438 rows x 8 columns]"
      ]
     },
     "execution_count": 3,
     "metadata": {},
     "output_type": "execute_result"
    }
   ],
   "source": [
    "df"
   ]
  },
  {
   "cell_type": "code",
   "execution_count": 4,
   "id": "18e6e216",
   "metadata": {},
   "outputs": [
    {
     "name": "stdout",
     "output_type": "stream",
     "text": [
      "<class 'pandas.core.frame.DataFrame'>\n",
      "RangeIndex: 438 entries, 0 to 437\n",
      "Data columns (total 8 columns):\n",
      " #   Column          Non-Null Count  Dtype  \n",
      "---  ------          --------------  -----  \n",
      " 0   ISO3            438 non-null    object \n",
      " 1   Country         438 non-null    object \n",
      " 2   Residence Type  438 non-null    object \n",
      " 3   Service Type    438 non-null    object \n",
      " 4   Year            438 non-null    int64  \n",
      " 5   Coverage        438 non-null    float64\n",
      " 6   Population      438 non-null    float64\n",
      " 7   Service level   438 non-null    object \n",
      "dtypes: float64(2), int64(1), object(5)\n",
      "memory usage: 27.5+ KB\n"
     ]
    }
   ],
   "source": [
    "df.info()"
   ]
  },
  {
   "cell_type": "code",
   "execution_count": 5,
   "id": "2d0264e1",
   "metadata": {},
   "outputs": [
    {
     "data": {
      "text/plain": [
       "ISO3              0\n",
       "Country           0\n",
       "Residence Type    0\n",
       "Service Type      0\n",
       "Year              0\n",
       "Coverage          0\n",
       "Population        0\n",
       "Service level     0\n",
       "dtype: int64"
      ]
     },
     "execution_count": 5,
     "metadata": {},
     "output_type": "execute_result"
    }
   ],
   "source": [
    "df.isna().sum()"
   ]
  },
  {
   "cell_type": "code",
   "execution_count": 6,
   "id": "a15e73fe",
   "metadata": {},
   "outputs": [
    {
     "data": {
      "text/plain": [
       "<seaborn.axisgrid.FacetGrid at 0x1aa9506aac0>"
      ]
     },
     "execution_count": 6,
     "metadata": {},
     "output_type": "execute_result"
    },
    {
     "data": {
      "image/png": "[encoded data removed]",
      "text/plain": [
       "<Figure size 421.5x360 with 1 Axes>"
      ]
     },
     "metadata": {
      "needs_background": "light"
     },
     "output_type": "display_data"
    }
   ],
   "source": [
    "sns.relplot(df[\"Coverage\"],df[\"Population\"],hue=df[\"Year\"])"
   ]
  },
  {
   "cell_type": "code",
   "execution_count": 7,
   "id": "95c450b6",
   "metadata": {},
   "outputs": [
    {
     "data": {
      "text/plain": [
       "<seaborn.axisgrid.PairGrid at 0x1aa9513f430>"
      ]
     },
     "execution_count": 7,
     "metadata": {},
     "output_type": "execute_result"
    },
    {
     "data": {
      "image/png": "[encoded data removed]",
      "text/plain": [
       "<Figure size 540x540 with 12 Axes>"
      ]
     },
     "metadata": {
      "needs_background": "light"
     },
     "output_type": "display_data"
    }
   ],
   "source": [
    "sns.pairplot(data=df)"
   ]
  },
  {
   "cell_type": "code",
   "execution_count": 8,
   "id": "427df965",
   "metadata": {},
   "outputs": [
    {
     "data": {
      "text/plain": [
       "<AxesSubplot:xlabel='Service Type', ylabel='Year'>"
      ]
     },
     "execution_count": 8,
     "metadata": {},
     "output_type": "execute_result"
    },
    {
     "data": {
      "image/png": "[encoded data removed]",
      "text/plain": [
       "<Figure size 432x288 with 1 Axes>"
      ]
     },
     "metadata": {
      "needs_background": "light"
     },
     "output_type": "display_data"
    }
   ],
   "source": [
    "sns.barplot(data=df,y=df[\"Year\"],x=df[\"Service Type\"])"
   ]
  },
  {
   "cell_type": "code",
   "execution_count": 9,
   "id": "78579bc1",
   "metadata": {},
   "outputs": [
    {
     "data": {
      "text/plain": [
       "<AxesSubplot:xlabel='Coverage', ylabel='Population'>"
      ]
     },
     "execution_count": 9,
     "metadata": {},
     "output_type": "execute_result"
    },
    {
     "data": {
      "image/png": "[encoded data removed]",
      "text/plain": [
       "<Figure size 432x288 with 1 Axes>"
      ]
     },
     "metadata": {
      "needs_background": "light"
     },
     "output_type": "display_data"
    }
   ],
   "source": [
    "sns.regplot(x=df[\"Coverage\"],y=df[\"Population\"])"
   ]
  },
  {
   "cell_type": "code",
   "execution_count": 10,
   "id": "05f88f49",
   "metadata": {},
   "outputs": [],
   "source": [
    "x=df.iloc[:,[2,6,7,3]]"
   ]
  },
  {
   "cell_type": "code",
   "execution_count": 11,
   "id": "0ce58dcc",
   "metadata": {},
   "outputs": [],
   "source": [
    "y=df.iloc[:,[5]]"
   ]
  },
  {
   "cell_type": "code",
   "execution_count": 12,
   "id": "89f7074d",
   "metadata": {},
   "outputs": [
    {
     "data": {
      "text/html": [
       "<div>\n",
       "<style scoped>\n",
       "    .dataframe tbody tr th:only-of-type {\n",
       "        vertical-align: middle;\n",
       "    }\n",
       "\n",
       "    .dataframe tbody tr th {\n",
       "        vertical-align: top;\n",
       "    }\n",
       "\n",
       "    .dataframe thead th {\n",
       "        text-align: right;\n",
       "    }\n",
       "</style>\n",
       "<table border=\"1\" class=\"dataframe\">\n",
       "  <thead>\n",
       "    <tr style=\"text-align: right;\">\n",
       "      <th></th>\n",
       "      <th>Coverage</th>\n",
       "    </tr>\n",
       "  </thead>\n",
       "  <tbody>\n",
       "    <tr>\n",
       "      <th>0</th>\n",
       "      <td>92.62825</td>\n",
       "    </tr>\n",
       "    <tr>\n",
       "      <th>1</th>\n",
       "      <td>2.89715</td>\n",
       "    </tr>\n",
       "    <tr>\n",
       "      <th>2</th>\n",
       "      <td>27.42971</td>\n",
       "    </tr>\n",
       "    <tr>\n",
       "      <th>3</th>\n",
       "      <td>45.99984</td>\n",
       "    </tr>\n",
       "    <tr>\n",
       "      <th>4</th>\n",
       "      <td>1.18974</td>\n",
       "    </tr>\n",
       "    <tr>\n",
       "      <th>...</th>\n",
       "      <td>...</td>\n",
       "    </tr>\n",
       "    <tr>\n",
       "      <th>433</th>\n",
       "      <td>0.23730</td>\n",
       "    </tr>\n",
       "    <tr>\n",
       "      <th>434</th>\n",
       "      <td>2.39484</td>\n",
       "    </tr>\n",
       "    <tr>\n",
       "      <th>435</th>\n",
       "      <td>0.42253</td>\n",
       "    </tr>\n",
       "    <tr>\n",
       "      <th>436</th>\n",
       "      <td>4.57638</td>\n",
       "    </tr>\n",
       "    <tr>\n",
       "      <th>437</th>\n",
       "      <td>2.82061</td>\n",
       "    </tr>\n",
       "  </tbody>\n",
       "</table>\n",
       "<p>438 rows × 1 columns</p>\n",
       "</div>"
      ],
      "text/plain": [
       "     Coverage\n",
       "0    92.62825\n",
       "1     2.89715\n",
       "2    27.42971\n",
       "3    45.99984\n",
       "4     1.18974\n",
       "..        ...\n",
       "433   0.23730\n",
       "434   2.39484\n",
       "435   0.42253\n",
       "436   4.57638\n",
       "437   2.82061\n",
       "\n",
       "[438 rows x 1 columns]"
      ]
     },
     "execution_count": 12,
     "metadata": {},
     "output_type": "execute_result"
    }
   ],
   "source": [
    "y"
   ]
  },
  {
   "cell_type": "code",
   "execution_count": 13,
   "id": "7914ad78",
   "metadata": {},
   "outputs": [
    {
     "data": {
      "text/html": [
       "<div>\n",
       "<style scoped>\n",
       "    .dataframe tbody tr th:only-of-type {\n",
       "        vertical-align: middle;\n",
       "    }\n",
       "\n",
       "    .dataframe tbody tr th {\n",
       "        vertical-align: top;\n",
       "    }\n",
       "\n",
       "    .dataframe thead th {\n",
       "        text-align: right;\n",
       "    }\n",
       "</style>\n",
       "<table border=\"1\" class=\"dataframe\">\n",
       "  <thead>\n",
       "    <tr style=\"text-align: right;\">\n",
       "      <th></th>\n",
       "      <th>Residence Type</th>\n",
       "      <th>Population</th>\n",
       "      <th>Service level</th>\n",
       "      <th>Service Type</th>\n",
       "    </tr>\n",
       "  </thead>\n",
       "  <tbody>\n",
       "    <tr>\n",
       "      <th>0</th>\n",
       "      <td>urban</td>\n",
       "      <td>2.779945e+08</td>\n",
       "      <td>At least basic</td>\n",
       "      <td>Drinking water</td>\n",
       "    </tr>\n",
       "    <tr>\n",
       "      <th>1</th>\n",
       "      <td>rural</td>\n",
       "      <td>2.244948e+07</td>\n",
       "      <td>Basic service</td>\n",
       "      <td>Sanitation</td>\n",
       "    </tr>\n",
       "    <tr>\n",
       "      <th>2</th>\n",
       "      <td>urban</td>\n",
       "      <td>8.232163e+07</td>\n",
       "      <td>Basic service</td>\n",
       "      <td>Sanitation</td>\n",
       "    </tr>\n",
       "    <tr>\n",
       "      <th>3</th>\n",
       "      <td>rural</td>\n",
       "      <td>3.564443e+08</td>\n",
       "      <td>Basic service</td>\n",
       "      <td>Drinking water</td>\n",
       "    </tr>\n",
       "    <tr>\n",
       "      <th>4</th>\n",
       "      <td>rural</td>\n",
       "      <td>9.219053e+06</td>\n",
       "      <td>Limited service</td>\n",
       "      <td>Sanitation</td>\n",
       "    </tr>\n",
       "    <tr>\n",
       "      <th>5</th>\n",
       "      <td>urban</td>\n",
       "      <td>5.310523e+07</td>\n",
       "      <td>Limited service</td>\n",
       "      <td>Sanitation</td>\n",
       "    </tr>\n",
       "    <tr>\n",
       "      <th>6</th>\n",
       "      <td>rural</td>\n",
       "      <td>3.557678e+07</td>\n",
       "      <td>Limited service</td>\n",
       "      <td>Drinking water</td>\n",
       "    </tr>\n",
       "    <tr>\n",
       "      <th>7</th>\n",
       "      <td>urban</td>\n",
       "      <td>6.209344e+06</td>\n",
       "      <td>Limited service</td>\n",
       "      <td>Drinking water</td>\n",
       "    </tr>\n",
       "    <tr>\n",
       "      <th>8</th>\n",
       "      <td>rural</td>\n",
       "      <td>6.876311e+08</td>\n",
       "      <td>Open defecation</td>\n",
       "      <td>Sanitation</td>\n",
       "    </tr>\n",
       "    <tr>\n",
       "      <th>9</th>\n",
       "      <td>urban</td>\n",
       "      <td>7.629581e+07</td>\n",
       "      <td>Open defecation</td>\n",
       "      <td>Sanitation</td>\n",
       "    </tr>\n",
       "    <tr>\n",
       "      <th>10</th>\n",
       "      <td>rural</td>\n",
       "      <td>1.784338e+07</td>\n",
       "      <td>Safely managed service</td>\n",
       "      <td>Sanitation</td>\n",
       "    </tr>\n",
       "    <tr>\n",
       "      <th>11</th>\n",
       "      <td>urban</td>\n",
       "      <td>6.652075e+07</td>\n",
       "      <td>Safely managed service</td>\n",
       "      <td>Sanitation</td>\n",
       "    </tr>\n",
       "    <tr>\n",
       "      <th>12</th>\n",
       "      <td>rural</td>\n",
       "      <td>2.365358e+08</td>\n",
       "      <td>Safely managed service</td>\n",
       "      <td>Drinking water</td>\n",
       "    </tr>\n",
       "    <tr>\n",
       "      <th>13</th>\n",
       "      <td>rural</td>\n",
       "      <td>1.356068e+07</td>\n",
       "      <td>Surface water</td>\n",
       "      <td>Drinking water</td>\n",
       "    </tr>\n",
       "    <tr>\n",
       "      <th>14</th>\n",
       "      <td>urban</td>\n",
       "      <td>8.321740e+05</td>\n",
       "      <td>Surface water</td>\n",
       "      <td>Drinking water</td>\n",
       "    </tr>\n",
       "    <tr>\n",
       "      <th>15</th>\n",
       "      <td>rural</td>\n",
       "      <td>3.773855e+07</td>\n",
       "      <td>Unimproved</td>\n",
       "      <td>Sanitation</td>\n",
       "    </tr>\n",
       "    <tr>\n",
       "      <th>16</th>\n",
       "      <td>urban</td>\n",
       "      <td>2.187509e+07</td>\n",
       "      <td>Unimproved</td>\n",
       "      <td>Sanitation</td>\n",
       "    </tr>\n",
       "    <tr>\n",
       "      <th>17</th>\n",
       "      <td>rural</td>\n",
       "      <td>1.327640e+08</td>\n",
       "      <td>Unimproved</td>\n",
       "      <td>Drinking water</td>\n",
       "    </tr>\n",
       "    <tr>\n",
       "      <th>18</th>\n",
       "      <td>urban</td>\n",
       "      <td>1.508246e+07</td>\n",
       "      <td>Unimproved</td>\n",
       "      <td>Drinking water</td>\n",
       "    </tr>\n",
       "    <tr>\n",
       "      <th>19</th>\n",
       "      <td>urban</td>\n",
       "      <td>2.862062e+08</td>\n",
       "      <td>At least basic</td>\n",
       "      <td>Drinking water</td>\n",
       "    </tr>\n",
       "  </tbody>\n",
       "</table>\n",
       "</div>"
      ],
      "text/plain": [
       "   Residence Type    Population           Service level    Service Type\n",
       "0           urban  2.779945e+08          At least basic  Drinking water\n",
       "1           rural  2.244948e+07           Basic service      Sanitation\n",
       "2           urban  8.232163e+07           Basic service      Sanitation\n",
       "3           rural  3.564443e+08           Basic service  Drinking water\n",
       "4           rural  9.219053e+06         Limited service      Sanitation\n",
       "5           urban  5.310523e+07         Limited service      Sanitation\n",
       "6           rural  3.557678e+07         Limited service  Drinking water\n",
       "7           urban  6.209344e+06         Limited service  Drinking water\n",
       "8           rural  6.876311e+08         Open defecation      Sanitation\n",
       "9           urban  7.629581e+07         Open defecation      Sanitation\n",
       "10          rural  1.784338e+07  Safely managed service      Sanitation\n",
       "11          urban  6.652075e+07  Safely managed service      Sanitation\n",
       "12          rural  2.365358e+08  Safely managed service  Drinking water\n",
       "13          rural  1.356068e+07           Surface water  Drinking water\n",
       "14          urban  8.321740e+05           Surface water  Drinking water\n",
       "15          rural  3.773855e+07              Unimproved      Sanitation\n",
       "16          urban  2.187509e+07              Unimproved      Sanitation\n",
       "17          rural  1.327640e+08              Unimproved  Drinking water\n",
       "18          urban  1.508246e+07              Unimproved  Drinking water\n",
       "19          urban  2.862062e+08          At least basic  Drinking water"
      ]
     },
     "execution_count": 13,
     "metadata": {},
     "output_type": "execute_result"
    }
   ],
   "source": [
    "x.head(20)"
   ]
  },
  {
   "cell_type": "code",
   "execution_count": 14,
   "id": "2403012d",
   "metadata": {},
   "outputs": [
    {
     "name": "stdout",
     "output_type": "stream",
     "text": [
      "Population\n",
      "1.2088756440130217\n"
     ]
    },
    {
     "data": {
      "image/png": "[encoded data removed]",
      "text/plain": [
       "<Figure size 432x288 with 1 Axes>"
      ]
     },
     "metadata": {
      "needs_background": "light"
     },
     "output_type": "display_data"
    }
   ],
   "source": [
    "colname=x.select_dtypes(['int64','float64']).columns\n",
    "from scipy.stats import skew\n",
    "for i in colname:\n",
    "    print(i)\n",
    "    print(skew(x[i]))\n",
    "    plt.figure()\n",
    "    sns.distplot(x[i])\n",
    "    plt.show()"
   ]
  },
  {
   "cell_type": "code",
   "execution_count": 15,
   "id": "7274fa5c",
   "metadata": {},
   "outputs": [],
   "source": [
    "catcol=x.select_dtypes(object).columns\n",
    "from sklearn.preprocessing import OrdinalEncoder\n",
    "oe=OrdinalEncoder()\n",
    "x[catcol]=oe.fit_transform(x[catcol])"
   ]
  },
  {
   "cell_type": "code",
   "execution_count": 16,
   "id": "a3512202",
   "metadata": {},
   "outputs": [
    {
     "data": {
      "text/html": [
       "<div>\n",
       "<style scoped>\n",
       "    .dataframe tbody tr th:only-of-type {\n",
       "        vertical-align: middle;\n",
       "    }\n",
       "\n",
       "    .dataframe tbody tr th {\n",
       "        vertical-align: top;\n",
       "    }\n",
       "\n",
       "    .dataframe thead th {\n",
       "        text-align: right;\n",
       "    }\n",
       "</style>\n",
       "<table border=\"1\" class=\"dataframe\">\n",
       "  <thead>\n",
       "    <tr style=\"text-align: right;\">\n",
       "      <th></th>\n",
       "      <th>Residence Type</th>\n",
       "      <th>Population</th>\n",
       "      <th>Service level</th>\n",
       "      <th>Service Type</th>\n",
       "    </tr>\n",
       "  </thead>\n",
       "  <tbody>\n",
       "    <tr>\n",
       "      <th>0</th>\n",
       "      <td>1.0</td>\n",
       "      <td>2.779945e+08</td>\n",
       "      <td>0.0</td>\n",
       "      <td>0.0</td>\n",
       "    </tr>\n",
       "    <tr>\n",
       "      <th>1</th>\n",
       "      <td>0.0</td>\n",
       "      <td>2.244948e+07</td>\n",
       "      <td>1.0</td>\n",
       "      <td>2.0</td>\n",
       "    </tr>\n",
       "    <tr>\n",
       "      <th>2</th>\n",
       "      <td>1.0</td>\n",
       "      <td>8.232163e+07</td>\n",
       "      <td>1.0</td>\n",
       "      <td>2.0</td>\n",
       "    </tr>\n",
       "    <tr>\n",
       "      <th>3</th>\n",
       "      <td>0.0</td>\n",
       "      <td>3.564443e+08</td>\n",
       "      <td>1.0</td>\n",
       "      <td>0.0</td>\n",
       "    </tr>\n",
       "    <tr>\n",
       "      <th>4</th>\n",
       "      <td>0.0</td>\n",
       "      <td>9.219053e+06</td>\n",
       "      <td>2.0</td>\n",
       "      <td>2.0</td>\n",
       "    </tr>\n",
       "    <tr>\n",
       "      <th>5</th>\n",
       "      <td>1.0</td>\n",
       "      <td>5.310523e+07</td>\n",
       "      <td>2.0</td>\n",
       "      <td>2.0</td>\n",
       "    </tr>\n",
       "    <tr>\n",
       "      <th>6</th>\n",
       "      <td>0.0</td>\n",
       "      <td>3.557678e+07</td>\n",
       "      <td>2.0</td>\n",
       "      <td>0.0</td>\n",
       "    </tr>\n",
       "    <tr>\n",
       "      <th>7</th>\n",
       "      <td>1.0</td>\n",
       "      <td>6.209344e+06</td>\n",
       "      <td>2.0</td>\n",
       "      <td>0.0</td>\n",
       "    </tr>\n",
       "    <tr>\n",
       "      <th>8</th>\n",
       "      <td>0.0</td>\n",
       "      <td>6.876311e+08</td>\n",
       "      <td>4.0</td>\n",
       "      <td>2.0</td>\n",
       "    </tr>\n",
       "    <tr>\n",
       "      <th>9</th>\n",
       "      <td>1.0</td>\n",
       "      <td>7.629581e+07</td>\n",
       "      <td>4.0</td>\n",
       "      <td>2.0</td>\n",
       "    </tr>\n",
       "    <tr>\n",
       "      <th>10</th>\n",
       "      <td>0.0</td>\n",
       "      <td>1.784338e+07</td>\n",
       "      <td>5.0</td>\n",
       "      <td>2.0</td>\n",
       "    </tr>\n",
       "    <tr>\n",
       "      <th>11</th>\n",
       "      <td>1.0</td>\n",
       "      <td>6.652075e+07</td>\n",
       "      <td>5.0</td>\n",
       "      <td>2.0</td>\n",
       "    </tr>\n",
       "    <tr>\n",
       "      <th>12</th>\n",
       "      <td>0.0</td>\n",
       "      <td>2.365358e+08</td>\n",
       "      <td>5.0</td>\n",
       "      <td>0.0</td>\n",
       "    </tr>\n",
       "    <tr>\n",
       "      <th>13</th>\n",
       "      <td>0.0</td>\n",
       "      <td>1.356068e+07</td>\n",
       "      <td>6.0</td>\n",
       "      <td>0.0</td>\n",
       "    </tr>\n",
       "    <tr>\n",
       "      <th>14</th>\n",
       "      <td>1.0</td>\n",
       "      <td>8.321740e+05</td>\n",
       "      <td>6.0</td>\n",
       "      <td>0.0</td>\n",
       "    </tr>\n",
       "    <tr>\n",
       "      <th>15</th>\n",
       "      <td>0.0</td>\n",
       "      <td>3.773855e+07</td>\n",
       "      <td>7.0</td>\n",
       "      <td>2.0</td>\n",
       "    </tr>\n",
       "    <tr>\n",
       "      <th>16</th>\n",
       "      <td>1.0</td>\n",
       "      <td>2.187509e+07</td>\n",
       "      <td>7.0</td>\n",
       "      <td>2.0</td>\n",
       "    </tr>\n",
       "    <tr>\n",
       "      <th>17</th>\n",
       "      <td>0.0</td>\n",
       "      <td>1.327640e+08</td>\n",
       "      <td>7.0</td>\n",
       "      <td>0.0</td>\n",
       "    </tr>\n",
       "    <tr>\n",
       "      <th>18</th>\n",
       "      <td>1.0</td>\n",
       "      <td>1.508246e+07</td>\n",
       "      <td>7.0</td>\n",
       "      <td>0.0</td>\n",
       "    </tr>\n",
       "    <tr>\n",
       "      <th>19</th>\n",
       "      <td>1.0</td>\n",
       "      <td>2.862062e+08</td>\n",
       "      <td>0.0</td>\n",
       "      <td>0.0</td>\n",
       "    </tr>\n",
       "  </tbody>\n",
       "</table>\n",
       "</div>"
      ],
      "text/plain": [
       "    Residence Type    Population  Service level  Service Type\n",
       "0              1.0  2.779945e+08            0.0           0.0\n",
       "1              0.0  2.244948e+07            1.0           2.0\n",
       "2              1.0  8.232163e+07            1.0           2.0\n",
       "3              0.0  3.564443e+08            1.0           0.0\n",
       "4              0.0  9.219053e+06            2.0           2.0\n",
       "5              1.0  5.310523e+07            2.0           2.0\n",
       "6              0.0  3.557678e+07            2.0           0.0\n",
       "7              1.0  6.209344e+06            2.0           0.0\n",
       "8              0.0  6.876311e+08            4.0           2.0\n",
       "9              1.0  7.629581e+07            4.0           2.0\n",
       "10             0.0  1.784338e+07            5.0           2.0\n",
       "11             1.0  6.652075e+07            5.0           2.0\n",
       "12             0.0  2.365358e+08            5.0           0.0\n",
       "13             0.0  1.356068e+07            6.0           0.0\n",
       "14             1.0  8.321740e+05            6.0           0.0\n",
       "15             0.0  3.773855e+07            7.0           2.0\n",
       "16             1.0  2.187509e+07            7.0           2.0\n",
       "17             0.0  1.327640e+08            7.0           0.0\n",
       "18             1.0  1.508246e+07            7.0           0.0\n",
       "19             1.0  2.862062e+08            0.0           0.0"
      ]
     },
     "execution_count": 16,
     "metadata": {},
     "output_type": "execute_result"
    }
   ],
   "source": [
    "x.head(20)"
   ]
  },
  {
   "cell_type": "code",
   "execution_count": 17,
   "id": "24a0ef51",
   "metadata": {},
   "outputs": [
    {
     "name": "stdout",
     "output_type": "stream",
     "text": [
      "<class 'pandas.core.frame.DataFrame'>\n",
      "RangeIndex: 438 entries, 0 to 437\n",
      "Data columns (total 4 columns):\n",
      " #   Column          Non-Null Count  Dtype  \n",
      "---  ------          --------------  -----  \n",
      " 0   Residence Type  438 non-null    float64\n",
      " 1   Population      438 non-null    float64\n",
      " 2   Service level   438 non-null    float64\n",
      " 3   Service Type    438 non-null    float64\n",
      "dtypes: float64(4)\n",
      "memory usage: 13.8 KB\n"
     ]
    }
   ],
   "source": [
    "x.info()"
   ]
  },
  {
   "cell_type": "code",
   "execution_count": 18,
   "id": "858761f9",
   "metadata": {},
   "outputs": [],
   "source": [
    "from sklearn.preprocessing import MinMaxScaler\n",
    "mm=MinMaxScaler()\n",
    "x[\"Population\"]=mm.fit_transform(x[[\"Population\"]])"
   ]
  },
  {
   "cell_type": "code",
   "execution_count": 19,
   "id": "6fd77171",
   "metadata": {},
   "outputs": [
    {
     "data": {
      "text/html": [
       "<div>\n",
       "<style scoped>\n",
       "    .dataframe tbody tr th:only-of-type {\n",
       "        vertical-align: middle;\n",
       "    }\n",
       "\n",
       "    .dataframe tbody tr th {\n",
       "        vertical-align: top;\n",
       "    }\n",
       "\n",
       "    .dataframe thead th {\n",
       "        text-align: right;\n",
       "    }\n",
       "</style>\n",
       "<table border=\"1\" class=\"dataframe\">\n",
       "  <thead>\n",
       "    <tr style=\"text-align: right;\">\n",
       "      <th></th>\n",
       "      <th>Residence Type</th>\n",
       "      <th>Population</th>\n",
       "      <th>Service level</th>\n",
       "      <th>Service Type</th>\n",
       "    </tr>\n",
       "  </thead>\n",
       "  <tbody>\n",
       "    <tr>\n",
       "      <th>0</th>\n",
       "      <td>1.0</td>\n",
       "      <td>0.403557</td>\n",
       "      <td>0.0</td>\n",
       "      <td>0.0</td>\n",
       "    </tr>\n",
       "    <tr>\n",
       "      <th>1</th>\n",
       "      <td>0.0</td>\n",
       "      <td>0.031475</td>\n",
       "      <td>1.0</td>\n",
       "      <td>2.0</td>\n",
       "    </tr>\n",
       "    <tr>\n",
       "      <th>2</th>\n",
       "      <td>1.0</td>\n",
       "      <td>0.118651</td>\n",
       "      <td>1.0</td>\n",
       "      <td>2.0</td>\n",
       "    </tr>\n",
       "    <tr>\n",
       "      <th>3</th>\n",
       "      <td>0.0</td>\n",
       "      <td>0.517782</td>\n",
       "      <td>1.0</td>\n",
       "      <td>0.0</td>\n",
       "    </tr>\n",
       "    <tr>\n",
       "      <th>4</th>\n",
       "      <td>0.0</td>\n",
       "      <td>0.012212</td>\n",
       "      <td>2.0</td>\n",
       "      <td>2.0</td>\n",
       "    </tr>\n",
       "    <tr>\n",
       "      <th>...</th>\n",
       "      <td>...</td>\n",
       "      <td>...</td>\n",
       "      <td>...</td>\n",
       "      <td>...</td>\n",
       "    </tr>\n",
       "    <tr>\n",
       "      <th>433</th>\n",
       "      <td>1.0</td>\n",
       "      <td>0.000454</td>\n",
       "      <td>6.0</td>\n",
       "      <td>0.0</td>\n",
       "    </tr>\n",
       "    <tr>\n",
       "      <th>434</th>\n",
       "      <td>0.0</td>\n",
       "      <td>0.030102</td>\n",
       "      <td>7.0</td>\n",
       "      <td>2.0</td>\n",
       "    </tr>\n",
       "    <tr>\n",
       "      <th>435</th>\n",
       "      <td>1.0</td>\n",
       "      <td>0.001754</td>\n",
       "      <td>7.0</td>\n",
       "      <td>2.0</td>\n",
       "    </tr>\n",
       "    <tr>\n",
       "      <th>436</th>\n",
       "      <td>0.0</td>\n",
       "      <td>0.058627</td>\n",
       "      <td>7.0</td>\n",
       "      <td>0.0</td>\n",
       "    </tr>\n",
       "    <tr>\n",
       "      <th>437</th>\n",
       "      <td>1.0</td>\n",
       "      <td>0.018583</td>\n",
       "      <td>7.0</td>\n",
       "      <td>0.0</td>\n",
       "    </tr>\n",
       "  </tbody>\n",
       "</table>\n",
       "<p>438 rows × 4 columns</p>\n",
       "</div>"
      ],
      "text/plain": [
       "     Residence Type  Population  Service level  Service Type\n",
       "0               1.0    0.403557            0.0           0.0\n",
       "1               0.0    0.031475            1.0           2.0\n",
       "2               1.0    0.118651            1.0           2.0\n",
       "3               0.0    0.517782            1.0           0.0\n",
       "4               0.0    0.012212            2.0           2.0\n",
       "..              ...         ...            ...           ...\n",
       "433             1.0    0.000454            6.0           0.0\n",
       "434             0.0    0.030102            7.0           2.0\n",
       "435             1.0    0.001754            7.0           2.0\n",
       "436             0.0    0.058627            7.0           0.0\n",
       "437             1.0    0.018583            7.0           0.0\n",
       "\n",
       "[438 rows x 4 columns]"
      ]
     },
     "execution_count": 19,
     "metadata": {},
     "output_type": "execute_result"
    }
   ],
   "source": [
    "x"
   ]
  },
  {
   "cell_type": "code",
   "execution_count": 20,
   "id": "db813c84",
   "metadata": {},
   "outputs": [],
   "source": [
    "from sklearn.model_selection import train_test_split\n",
    "xtrain,xtest,ytrain,ytest=train_test_split(x,y,random_state=1,test_size=0.3)"
   ]
  },
  {
   "cell_type": "code",
   "execution_count": 21,
   "id": "a5caa412",
   "metadata": {},
   "outputs": [],
   "source": [
    "from sklearn.linear_model import LinearRegression\n",
    "lr=LinearRegression()\n",
    "lr.fit(xtrain,ytrain)\n",
    "ypred=lr.predict(xtest)"
   ]
  },
  {
   "cell_type": "code",
   "execution_count": 22,
   "id": "5ed31c8c",
   "metadata": {},
   "outputs": [
    {
     "data": {
      "text/plain": [
       "<AxesSubplot:ylabel='Density'>"
      ]
     },
     "execution_count": 22,
     "metadata": {},
     "output_type": "execute_result"
    },
    {
     "data": {
      "image/png": "[encoded data removed]",
      "text/plain": [
       "<Figure size 432x288 with 1 Axes>"
      ]
     },
     "metadata": {
      "needs_background": "light"
     },
     "output_type": "display_data"
    }
   ],
   "source": [
    "sns.distplot(ytest-ypred)"
   ]
  },
  {
   "cell_type": "code",
   "execution_count": 23,
   "id": "020887ec",
   "metadata": {},
   "outputs": [
    {
     "name": "stdout",
     "output_type": "stream",
     "text": [
      "0.8923314998209022\n",
      "6.682938612956574\n",
      "77.41981050410965\n"
     ]
    }
   ],
   "source": [
    "from sklearn.metrics import r2_score,mean_absolute_error,mean_squared_error\n",
    "print(r2_score(ytest,ypred))\n",
    "print(mean_absolute_error(ytest,ypred))\n",
    "print(mean_squared_error(ytest,ypred))\n"
   ]
  },
  {
   "cell_type": "code",
   "execution_count": 24,
   "id": "d302ac1f",
   "metadata": {},
   "outputs": [],
   "source": [
    "trainscore=lr.score(xtrain,ytrain)"
   ]
  },
  {
   "cell_type": "code",
   "execution_count": 25,
   "id": "e7d2b902",
   "metadata": {},
   "outputs": [],
   "source": [
    "testscore=lr.score(xtest,ytest)"
   ]
  },
  {
   "cell_type": "code",
   "execution_count": 26,
   "id": "dd7b56f7",
   "metadata": {},
   "outputs": [
    {
     "name": "stdout",
     "output_type": "stream",
     "text": [
      "Training Score0.8749738287016791 \n",
      "Testing Score 0.8923314998209022\n"
     ]
    }
   ],
   "source": [
    "print(f\"Training Score{trainscore} \\nTesting Score {testscore}\")"
   ]
  },
  {
   "cell_type": "code",
   "execution_count": 27,
   "id": "d086b49e",
   "metadata": {},
   "outputs": [
    {
     "name": "stdout",
     "output_type": "stream",
     "text": [
      "[36.70025     2.50599    71.28437    35.4077     16.05205     1.16465\n",
      "  8.80602    43.91606     3.30683     1.05821     0.25203     0.25203\n",
      "  2.50599    45.99984    39.99254    32.17764    23.06526     7.60985\n",
      " 60.01136     3.56958667  2.27389    13.84789    93.07341    93.34682\n",
      " 60.01136     2.95027    16.07429    82.28007    57.31974     0.2615\n",
      " 39.99254     7.28882    36.62104    16.41989    16.05205     2.50599\n",
      " 18.06581    16.05205     3.30683    93.07341    36.70025    49.18452\n",
      " 23.67601    19.32098     7.80278     3.28839     0.2394      0.25834\n",
      " 18.79112     3.3136      9.86357    74.77553    82.28007    29.10871\n",
      " 93.67004     5.82933    93.34682    16.05205     6.84502    45.99984\n",
      " 39.99254    32.17764    18.58467     2.27389     4.3491     36.70025\n",
      "  4.57638     1.66788    19.16327    12.56189     4.39602556 56.07462\n",
      "  0.89856     5.26183     0.98789    13.58743     7.80278     1.16465\n",
      "  1.43073     3.74898    27.98535     0.26676    33.88334    40.37501333\n",
      "  7.28882    18.58467     2.65540667  4.98843     3.30683    85.249\n",
      " 36.70025    18.99189    50.33743    18.06581    34.141       3.56958667\n",
      " 18.58467     0.98789     4.39602556  5.26183    82.28007    18.99189\n",
      "  2.50599    25.89933    13.82896     1.43073    15.81166    45.32411\n",
      " 36.64616     2.50599    92.85202    25.46368     6.20467    23.06526\n",
      " 16.07429     2.30272     2.95027     2.30272    93.50909     2.89715\n",
      "  1.16465    10.14265    60.01136     2.3178      5.00853     1.05821\n",
      "  5.82933     0.98789     2.93665    39.51467    36.70025    36.3728    ]\n",
      "     Coverage\n",
      "325   3.28839\n",
      "244  36.70025\n",
      "414  60.01136\n",
      "127   1.43073\n",
      "82    4.85431\n",
      "..        ...\n",
      "255  31.68964\n",
      "72    4.47938\n",
      "396   8.10051\n",
      "235   3.31360\n",
      "37    4.90945\n",
      "\n",
      "[306 rows x 1 columns]\n"
     ]
    }
   ],
   "source": [
    "from sklearn.tree import DecisionTreeRegressor\n",
    "dr=DecisionTreeRegressor(max_depth=10)\n",
    "dr.fit(xtrain,ytrain)\n",
    "ypred=dr.predict(xtest)\n",
    "print(ypred)\n",
    "print(ytrain)"
   ]
  },
  {
   "cell_type": "code",
   "execution_count": 28,
   "id": "6ef295d2",
   "metadata": {},
   "outputs": [
    {
     "name": "stdout",
     "output_type": "stream",
     "text": [
      "0.9792663352420781\n",
      "0.9948283838383837\n",
      "14.908690972233629\n"
     ]
    }
   ],
   "source": [
    "print(r2_score(ytest,ypred))\n",
    "print(mean_absolute_error(ytest,ypred))\n",
    "print(mean_squared_error(ytest,ypred))\n"
   ]
  },
  {
   "cell_type": "code",
   "execution_count": 29,
   "id": "9aa3c13d",
   "metadata": {},
   "outputs": [
    {
     "name": "stdout",
     "output_type": "stream",
     "text": [
      "Training Score0.9999844538835745 \n",
      "Testing Score 0.9792663352420781\n"
     ]
    }
   ],
   "source": [
    "trainscore=dr.score(xtrain,ytrain)\n",
    "testscore=dr.score(xtest,ytest)\n",
    "print(f\"Training Score{trainscore} \\nTesting Score {testscore}\")"
   ]
  },
  {
   "cell_type": "code",
   "execution_count": 30,
   "id": "7b13523e",
   "metadata": {},
   "outputs": [],
   "source": [
    "from sklearn.ensemble import RandomForestRegressor\n",
    "rr=RandomForestRegressor()\n",
    "rr.fit(xtrain,ytrain)\n",
    "ypred=rr.predict(xtest)"
   ]
  },
  {
   "cell_type": "code",
   "execution_count": 31,
   "id": "63658656",
   "metadata": {},
   "outputs": [
    {
     "name": "stdout",
     "output_type": "stream",
     "text": [
      "0.9906457569651896\n",
      "1.003650222727277\n",
      "6.726235825331965\n"
     ]
    }
   ],
   "source": [
    "print(r2_score(ytest,ypred))\n",
    "print(mean_absolute_error(ytest,ypred))\n",
    "print(mean_squared_error(ytest,ypred))\n"
   ]
  },
  {
   "cell_type": "code",
   "execution_count": 32,
   "id": "d436e6eb",
   "metadata": {},
   "outputs": [
    {
     "name": "stdout",
     "output_type": "stream",
     "text": [
      "Training Score0.9980331641715958 \n",
      "Testing Score 0.9906457569651896\n"
     ]
    }
   ],
   "source": [
    "trainscore=rr.score(xtrain,ytrain)\n",
    "testscore=rr.score(xtest,ytest)\n",
    "print(f\"Training Score{trainscore} \\nTesting Score {testscore}\")"
   ]
  },
  {
   "cell_type": "code",
   "execution_count": 33,
   "id": "accd851c",
   "metadata": {},
   "outputs": [],
   "source": [
    "from sklearn.ensemble import AdaBoostRegressor\n",
    "ar=AdaBoostRegressor()\n",
    "ar.fit(xtrain,ytrain)\n",
    "ypred=ar.predict(xtest)"
   ]
  },
  {
   "cell_type": "code",
   "execution_count": 34,
   "id": "002dfff9",
   "metadata": {},
   "outputs": [
    {
     "name": "stdout",
     "output_type": "stream",
     "text": [
      "0.9811203023111965\n",
      "2.8179229639646795\n",
      "13.575582598537956\n"
     ]
    }
   ],
   "source": [
    "print(r2_score(ytest,ypred))\n",
    "print(mean_absolute_error(ytest,ypred))\n",
    "print(mean_squared_error(ytest,ypred))\n"
   ]
  },
  {
   "cell_type": "code",
   "execution_count": 35,
   "id": "6079542e",
   "metadata": {},
   "outputs": [
    {
     "name": "stdout",
     "output_type": "stream",
     "text": [
      "Training Score0.983585391249666 \n",
      "Testing Score 0.9811203023111965\n"
     ]
    }
   ],
   "source": [
    "trainscore=ar.score(xtrain,ytrain)\n",
    "testscore=ar.score(xtest,ytest)\n",
    "print(f\"Training Score{trainscore} \\nTesting Score {testscore}\")"
   ]
  },
  {
   "cell_type": "code",
   "execution_count": 36,
   "id": "17fd325a",
   "metadata": {},
   "outputs": [],
   "source": [
    "from sklearn.ensemble import GradientBoostingRegressor\n",
    "gr=GradientBoostingRegressor()\n",
    "gr.fit(xtrain,ytrain)\n",
    "ypred=gr.predict(xtest)"
   ]
  },
  {
   "cell_type": "code",
   "execution_count": 37,
   "id": "52b1f814",
   "metadata": {},
   "outputs": [
    {
     "name": "stdout",
     "output_type": "stream",
     "text": [
      "0.9953304610881484\n",
      "1.1386055974753355\n",
      "3.357665585531222\n"
     ]
    }
   ],
   "source": [
    "print(r2_score(ytest,ypred))\n",
    "print(mean_absolute_error(ytest,ypred))\n",
    "print(mean_squared_error(ytest,ypred))\n"
   ]
  },
  {
   "cell_type": "code",
   "execution_count": 38,
   "id": "4c5296dd",
   "metadata": {},
   "outputs": [
    {
     "name": "stdout",
     "output_type": "stream",
     "text": [
      "Training Score0.99902708016054 \n",
      "Testing Score 0.9953304610881484\n"
     ]
    }
   ],
   "source": [
    "trainscore=gr.score(xtrain,ytrain)\n",
    "testscore=gr.score(xtest,ytest)\n",
    "print(f\"Training Score{trainscore} \\nTesting Score {testscore}\")"
   ]
  },
  {
   "cell_type": "code",
   "execution_count": 39,
   "id": "90c69276",
   "metadata": {},
   "outputs": [],
   "source": [
    "import pickle as plk\n",
    "plk.dump(dr,open(r\"G:\\Project\\model.pkl\",'wb'))"
   ]
  },
  {
   "cell_type": "code",
   "execution_count": 40,
   "id": "c7c1ab26",
   "metadata": {},
   "outputs": [
    {
     "data": {
      "text/plain": [
       "Limited service            98\n",
       "Basic service              82\n",
       "Unimproved                 80\n",
       "Safely managed service     60\n",
       "Open defecation            40\n",
       "Surface water              40\n",
       "At least basic             20\n",
       "No handwashing facility    18\n",
       "Name: Service level, dtype: int64"
      ]
     },
     "execution_count": 40,
     "metadata": {},
     "output_type": "execute_result"
    }
   ],
   "source": [
    "df[\"Service level\"].value_counts()"
   ]
  },
  {
   "cell_type": "code",
   "execution_count": 41,
   "id": "a45ee12d",
   "metadata": {
    "scrolled": true
   },
   "outputs": [
    {
     "data": {
      "text/plain": [
       "Sanitation        200\n",
       "Drinking water    180\n",
       "Hygiene            58\n",
       "Name: Service Type, dtype: int64"
      ]
     },
     "execution_count": 41,
     "metadata": {},
     "output_type": "execute_result"
    }
   ],
   "source": [
    "df[\"Service Type\"].value_counts()"
   ]
  },
  {
   "cell_type": "code",
   "execution_count": 42,
   "id": "b5598754",
   "metadata": {},
   "outputs": [
    {
     "data": {
      "text/plain": [
       "array([82.28007])"
      ]
     },
     "execution_count": 42,
     "metadata": {},
     "output_type": "execute_result"
    }
   ],
   "source": [
    "dr.predict([[1,1,12000,1]])"
   ]
  },
  {
   "cell_type": "code",
   "execution_count": 43,
   "id": "78bdf492",
   "metadata": {},
   "outputs": [
    {
     "data": {
      "text/plain": [
       "array([82.28007])"
      ]
     },
     "execution_count": 43,
     "metadata": {},
     "output_type": "execute_result"
    }
   ],
   "source": [
    "dr.predict([[1,1,12000,1]])"
   ]
  },
  {
   "cell_type": "code",
   "execution_count": 59,
   "id": "853c8f93",
   "metadata": {},
   "outputs": [
    {
     "data": {
      "text/plain": [
       "array([93.67004])"
      ]
     },
     "execution_count": 59,
     "metadata": {},
     "output_type": "execute_result"
    }
   ],
   "source": [
    "dr.predict([[0,124646,0,0]])"
   ]
  },
  {
   "cell_type": "code",
   "execution_count": null,
   "id": "07982326",
   "metadata": {},
   "outputs": [],
   "source": []
  }
 ],
 "metadata": {
  "kernelspec": {
   "display_name": "Python 3 (ipykernel)",
   "language": "python",
   "name": "python3"
  },
  "language_info": {
   "codemirror_mode": {
    "name": "ipython",
    "version": 3
   },
   "file_extension": ".py",
   "mimetype": "text/x-python",
   "name": "python",
   "nbconvert_exporter": "python",
   "pygments_lexer": "ipython3",
   "version": "3.9.12"
  }
 },
 "nbformat": 4,
 "nbformat_minor": 5
}
